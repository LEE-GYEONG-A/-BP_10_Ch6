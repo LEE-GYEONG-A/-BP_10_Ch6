{
  "nbformat": 4,
  "nbformat_minor": 0,
  "metadata": {
    "colab": {
      "provenance": [],
      "collapsed_sections": [],
      "authorship_tag": "ABX9TyNCdfkWU4mdsyz2b4MPDdaw",
      "include_colab_link": true
    },
    "kernelspec": {
      "name": "python3",
      "display_name": "Python 3"
    },
    "language_info": {
      "name": "python"
    }
  },
  "cells": [
    {
      "cell_type": "markdown",
      "metadata": {
        "id": "view-in-github",
        "colab_type": "text"
      },
      "source": [
        "<a href=\"https://colab.research.google.com/github/LEE-GYEONG-A/BP_10_Ch6/blob/main/%EA%B3%BC%EC%A0%9C6%EC%9E%A5.ipynb\" target=\"_parent\"><img src=\"https://colab.research.google.com/assets/colab-badge.svg\" alt=\"Open In Colab\"/></a>"
      ]
    },
    {
      "cell_type": "code",
      "execution_count": 3,
      "metadata": {
        "id": "LAXlSgX9JIUf",
        "colab": {
          "base_uri": "https://localhost:8080/"
        },
        "outputId": "def53d0d-9117-43ee-a976-996ae0ec05cd"
      },
      "outputs": [
        {
          "output_type": "stream",
          "name": "stdout",
          "text": [
            "2 4 6 8 10 12 14 16 18 20 22 24 26 28 30 32 34 36 38 40 42 44 46 48 50 52 54 56 58 60 62 64 66 68 70 72 74 76 78 80 82 84 86 88 90 92 94 96 98 100 "
          ]
        }
      ],
      "source": [
        "#1번 문제\n",
        "for i in range(2, 101): #100을 포함하는 짝수 출력임으로 101까지 포함해야함.\n",
        "  if i%2==0:            #위의 정수 중 짝수만 출력하기 위한 조건\n",
        "    print(i,end = \" \")   #출력 문자열을 공백으로 나타내어 위의 조건에 해당되는 것들을 출력함."
      ]
    },
    {
      "cell_type": "code",
      "source": [
        "#2번 문제\n",
        "year = 0                       #변수year을 0 처리\n",
        "balance = 1000                 # 변수 balacne에 1000 선언\n",
        "\n",
        "while balance <= 2000:         #변수 balance가 2000보다 작거나 같을 경우를 while문 사용 \n",
        "  year = year + 1             \n",
        "  interest = balance * 0.07    #복리이자율(변수 interest) 선언\n",
        "  balance = balance + interest #복리이자율 계산식  \n",
        "print(year, \"년 걸립니다.\")    "
      ],
      "metadata": {
        "id": "1DYZ-xprKoUb",
        "colab": {
          "base_uri": "https://localhost:8080/"
        },
        "outputId": "3645ba45-772d-47e7-d461-b801d02c4072"
      },
      "execution_count": null,
      "outputs": [
        {
          "output_type": "stream",
          "name": "stdout",
          "text": [
            "11 년 걸립니다.\n"
          ]
        }
      ]
    },
    {
      "cell_type": "code",
      "source": [
        "#3번 문제\n",
        "n = 1234            #정수 n 선언\n",
        "sum = 0             #변수 sum 0 처리\n",
        "while n > 0:        #정수가 0보다 클 경우를 while문 사용\n",
        "  digit = n % 10    #변수 digit는 자리수를 의미 \n",
        "  sum = sum + digit #sum에 digit를 더해 다시 sum에 저장\n",
        "  n = n // 10       #n을 10으로 나눠 몫을 다시 n에 저장\n",
        "print(sum)"
      ],
      "metadata": {
        "colab": {
          "base_uri": "https://localhost:8080/"
        },
        "id": "G8H1C7FyFdmW",
        "outputId": "cf73ad7d-14e0-4df8-8271-460cf79783c3"
      },
      "execution_count": null,
      "outputs": [
        {
          "output_type": "stream",
          "name": "stdout",
          "text": [
            "10\n"
          ]
        }
      ]
    },
    {
      "cell_type": "code",
      "source": [
        "#4번 문제\n",
        "ans = 0                    #변수 ans 0 처리\n",
        "while ans != 3*9:          #while문 사용으로 3*9의계산 값이 올바르게 작성될 때까지 답을 입력할 수 있게 함.\n",
        "  ans = int(input(\"3*9=\"))\n",
        "print(\"맞았습니다!\")"
      ],
      "metadata": {
        "colab": {
          "base_uri": "https://localhost:8080/"
        },
        "id": "TcBVQC9ZMeqI",
        "outputId": "ae110393-b123-4dca-b4b1-d57c704d74d5"
      },
      "execution_count": null,
      "outputs": [
        {
          "output_type": "stream",
          "name": "stdout",
          "text": [
            "3*9=12\n",
            "3*9=35\n",
            "3*9=27\n",
            "맞았습니다!\n"
          ]
        }
      ]
    },
    {
      "cell_type": "code",
      "source": [
        "#5번 문제\n",
        "sum = 0                                 #변수 sum 0 처리\n",
        "while True:                             \n",
        "  x = int(input(\"정수를 입력하시오:\"))  #변수 x을 사용자로부터 정수 입력 받음\n",
        "  if x == 0:                            #입력받은 정수가 0이 될 경우를 if문 사용\n",
        "    break;                              #반복문을 끝내는 명령어\n",
        "  sum = sum + x                         #0이 입력되기 까지 입력된 정수를 모두 합함\n",
        "\n",
        "print(\"합은\", sum, \"입니다.\")"
      ],
      "metadata": {
        "colab": {
          "base_uri": "https://localhost:8080/"
        },
        "id": "7cIew8uPMnag",
        "outputId": "8363d8fe-ad5c-4d98-fb1a-9e05136b8b80"
      },
      "execution_count": null,
      "outputs": [
        {
          "output_type": "stream",
          "name": "stdout",
          "text": [
            "정수를 입력하시오:2\n",
            "정수를 입력하시오:5\n",
            "정수를 입력하시오:8\n",
            "정수를 입력하시오:4\n",
            "정수를 입력하시오:0\n",
            "합은 19 입니다.\n"
          ]
        }
      ]
    },
    {
      "cell_type": "code",
      "source": [
        "#6번 문제\n",
        "from random import randint   #random 함수 중 randint 선언\n",
        " \n",
        "for i in range(3):           #3번 반복하는 for문 사용\n",
        "  d1 = randint(1, 6)         #변수 d1에 랜덤 정수 (범위: 1~6) 선언\n",
        "  d2 = randint(1, 6)         #변수 d2에 랜덤 정수 (범위: 1~6) 선언\n",
        "  print(\"첫번째 주사위=\", d1, \"두번째 주사위=\", d2)"
      ],
      "metadata": {
        "colab": {
          "base_uri": "https://localhost:8080/"
        },
        "id": "vV9GvaFqR0wm",
        "outputId": "332891d6-032e-4424-b784-9bef64ef173c"
      },
      "execution_count": null,
      "outputs": [
        {
          "output_type": "stream",
          "name": "stdout",
          "text": [
            "첫번째 주사위= 1 두번째 주사위= 2\n",
            "첫번째 주사위= 1 두번째 주사위= 1\n",
            "첫번째 주사위= 1 두번째 주사위= 4\n"
          ]
        }
      ]
    },
    {
      "cell_type": "code",
      "source": [
        "#7번 문제\n",
        "import turtle        #turtle문 선언\n",
        "\n",
        "t = turtle.Turtle()  #변수t에 turtle.Turtle()을 선언 \n",
        "t.shape(\"turtle\")    #turtle문의 모양을 거북이로 선언\n",
        "t.left(90)           #왼쪽으로 90도 회전\n",
        "\n",
        "for i in range(1,7): #눈꽃 모양을 그리는 for 반복문\n",
        "   t.forward(100)\n",
        "   t.forward(-30)\n",
        "   t.left(60)\n",
        "   t.forward(30)\n",
        "   t.forward(-30)\n",
        "   \n",
        "   t.right(120)\n",
        "   t.forward(30)\n",
        "   t.forward(-30)\n",
        "   \n",
        "   t.left(60)\n",
        "   t.forward(-70)\n",
        "   t.left(60)\n",
        "t._screen.exitonclick() #화면을 마우스로 클릭해야 종료되게 하는 부분"
      ],
      "metadata": {
        "id": "vxiNyOuYVd36"
      },
      "execution_count": null,
      "outputs": []
    },
    {
      "cell_type": "code",
      "source": [
        "#8번 문제\n",
        "import turtle             #turtle문 선언\n",
        "\n",
        "myPen = turtle.Turtle()   #변수myPen에 turtle.Turtle()을 선언\n",
        "myPen.speed(0)            #속도 0\n",
        "myPen.color(\"#FF0000\")    #\"#FF0000\" 색상으로 변경\n",
        "\n",
        "for j in range(1, 10):    #10개의 별을 그리는 for반복문\n",
        "  for i in range(1,6):    \n",
        "    myPen.left(144)\n",
        "    myPen.forward(200)\n",
        "  myPen.left(10)\n",
        "myPen._screen.exitonclick()   #화면을 마우스로 클릭해야 종료되게 하는 부분"
      ],
      "metadata": {
        "id": "sEutjq1ua5Se"
      },
      "execution_count": null,
      "outputs": []
    },
    {
      "cell_type": "code",
      "source": [
        "#9번 문제\n",
        "import turtle                   #turtle문 선언\n",
        "import random                   #random문 선언\n",
        "\n",
        "t = turtle.Turtle()             #변수t에 turtle.Turtle()을 선언 \n",
        "t.shape(\"turtle\")               #turtle문의 모양을 거북이로 선언\n",
        "\n",
        "for i in range(1,10):           #10개의 랜덤한 원을 그리는 for문\n",
        "  t.up()\n",
        "  x = random.randint(-200, 200)\n",
        "  y = random.randint(-200, 200)\n",
        "  r = random.randint(-10, 200)\n",
        "  t.goto(x, y)\n",
        "  t.down()\n",
        "  t.circle(r)\n",
        "t._screen.exitonclick()         #화면을 마우스로 클릭해야 종료되게 하는 부분"
      ],
      "metadata": {
        "id": "YpuWsowBbsau"
      },
      "execution_count": null,
      "outputs": []
    },
    {
      "cell_type": "code",
      "source": [
        "#10번 문제\n",
        "import turtle                   #turtle문 선언\n",
        "\n",
        "t = turtle.Turtle()             #변수t에 turtle.Turtle()을 선언 \n",
        "t.shape(\"turtle\")               #turtle문의 모양을 거북이로 선언\n",
        "\n",
        "for i in range(5):              #왕복 달리는 경로 그리는 for반복문\n",
        "  t.forward(200);\n",
        "  t.right(90)\n",
        "  t.forward(20);\n",
        "  t.right(90)\n",
        "  t.forward(200);\n",
        "  t.left(90)\n",
        "  t.forward(20);\n",
        "  t.left(90)\n",
        "t._screen.exitonclick()    #화면을 마우스로 클릭해야 종료되게 하는 부분"
      ],
      "metadata": {
        "colab": {
          "base_uri": "https://localhost:8080/",
          "height": 431
        },
        "id": "5YtFxZs-hXPM",
        "outputId": "a5272d52-b842-427e-d933-c815766b9520"
      },
      "execution_count": null,
      "outputs": [
        {
          "output_type": "error",
          "ename": "TclError",
          "evalue": "ignored",
          "traceback": [
            "\u001b[0;31m---------------------------------------------------------------------------\u001b[0m",
            "\u001b[0;31mTclError\u001b[0m                                  Traceback (most recent call last)",
            "\u001b[0;32m<ipython-input-1-c4fd35e878f6>\u001b[0m in \u001b[0;36m<module>\u001b[0;34m\u001b[0m\n\u001b[1;32m      2\u001b[0m \u001b[0;32mimport\u001b[0m \u001b[0mturtle\u001b[0m\u001b[0;34m\u001b[0m\u001b[0;34m\u001b[0m\u001b[0m\n\u001b[1;32m      3\u001b[0m \u001b[0;34m\u001b[0m\u001b[0m\n\u001b[0;32m----> 4\u001b[0;31m \u001b[0mt\u001b[0m \u001b[0;34m=\u001b[0m \u001b[0mturtle\u001b[0m\u001b[0;34m.\u001b[0m\u001b[0mTurtle\u001b[0m\u001b[0;34m(\u001b[0m\u001b[0;34m)\u001b[0m             \u001b[0;31m#변수t에 turtle.Turtle()을 선언\u001b[0m\u001b[0;34m\u001b[0m\u001b[0;34m\u001b[0m\u001b[0m\n\u001b[0m\u001b[1;32m      5\u001b[0m \u001b[0mt\u001b[0m\u001b[0;34m.\u001b[0m\u001b[0mshape\u001b[0m\u001b[0;34m(\u001b[0m\u001b[0;34m\"turtle\"\u001b[0m\u001b[0;34m)\u001b[0m\u001b[0;34m\u001b[0m\u001b[0;34m\u001b[0m\u001b[0m\n\u001b[1;32m      6\u001b[0m \u001b[0;34m\u001b[0m\u001b[0m\n",
            "\u001b[0;32m/usr/lib/python3.7/turtle.py\u001b[0m in \u001b[0;36m__init__\u001b[0;34m(self, shape, undobuffersize, visible)\u001b[0m\n\u001b[1;32m   3810\u001b[0m                  visible=_CFG[\"visible\"]):\n\u001b[1;32m   3811\u001b[0m         \u001b[0;32mif\u001b[0m \u001b[0mTurtle\u001b[0m\u001b[0;34m.\u001b[0m\u001b[0m_screen\u001b[0m \u001b[0;32mis\u001b[0m \u001b[0;32mNone\u001b[0m\u001b[0;34m:\u001b[0m\u001b[0;34m\u001b[0m\u001b[0;34m\u001b[0m\u001b[0m\n\u001b[0;32m-> 3812\u001b[0;31m             \u001b[0mTurtle\u001b[0m\u001b[0;34m.\u001b[0m\u001b[0m_screen\u001b[0m \u001b[0;34m=\u001b[0m \u001b[0mScreen\u001b[0m\u001b[0;34m(\u001b[0m\u001b[0;34m)\u001b[0m\u001b[0;34m\u001b[0m\u001b[0;34m\u001b[0m\u001b[0m\n\u001b[0m\u001b[1;32m   3813\u001b[0m         RawTurtle.__init__(self, Turtle._screen,\n\u001b[1;32m   3814\u001b[0m                            \u001b[0mshape\u001b[0m\u001b[0;34m=\u001b[0m\u001b[0mshape\u001b[0m\u001b[0;34m,\u001b[0m\u001b[0;34m\u001b[0m\u001b[0;34m\u001b[0m\u001b[0m\n",
            "\u001b[0;32m/usr/lib/python3.7/turtle.py\u001b[0m in \u001b[0;36mScreen\u001b[0;34m()\u001b[0m\n\u001b[1;32m   3660\u001b[0m     else return the existing one.\"\"\"\n\u001b[1;32m   3661\u001b[0m     \u001b[0;32mif\u001b[0m \u001b[0mTurtle\u001b[0m\u001b[0;34m.\u001b[0m\u001b[0m_screen\u001b[0m \u001b[0;32mis\u001b[0m \u001b[0;32mNone\u001b[0m\u001b[0;34m:\u001b[0m\u001b[0;34m\u001b[0m\u001b[0;34m\u001b[0m\u001b[0m\n\u001b[0;32m-> 3662\u001b[0;31m         \u001b[0mTurtle\u001b[0m\u001b[0;34m.\u001b[0m\u001b[0m_screen\u001b[0m \u001b[0;34m=\u001b[0m \u001b[0m_Screen\u001b[0m\u001b[0;34m(\u001b[0m\u001b[0;34m)\u001b[0m\u001b[0;34m\u001b[0m\u001b[0;34m\u001b[0m\u001b[0m\n\u001b[0m\u001b[1;32m   3663\u001b[0m     \u001b[0;32mreturn\u001b[0m \u001b[0mTurtle\u001b[0m\u001b[0;34m.\u001b[0m\u001b[0m_screen\u001b[0m\u001b[0;34m\u001b[0m\u001b[0;34m\u001b[0m\u001b[0m\n\u001b[1;32m   3664\u001b[0m \u001b[0;34m\u001b[0m\u001b[0m\n",
            "\u001b[0;32m/usr/lib/python3.7/turtle.py\u001b[0m in \u001b[0;36m__init__\u001b[0;34m(self)\u001b[0m\n\u001b[1;32m   3676\u001b[0m         \u001b[0;31m# preserved (perhaps by passing it as an optional parameter)\u001b[0m\u001b[0;34m\u001b[0m\u001b[0;34m\u001b[0m\u001b[0;34m\u001b[0m\u001b[0m\n\u001b[1;32m   3677\u001b[0m         \u001b[0;32mif\u001b[0m \u001b[0m_Screen\u001b[0m\u001b[0;34m.\u001b[0m\u001b[0m_root\u001b[0m \u001b[0;32mis\u001b[0m \u001b[0;32mNone\u001b[0m\u001b[0;34m:\u001b[0m\u001b[0;34m\u001b[0m\u001b[0;34m\u001b[0m\u001b[0m\n\u001b[0;32m-> 3678\u001b[0;31m             \u001b[0m_Screen\u001b[0m\u001b[0;34m.\u001b[0m\u001b[0m_root\u001b[0m \u001b[0;34m=\u001b[0m \u001b[0mself\u001b[0m\u001b[0;34m.\u001b[0m\u001b[0m_root\u001b[0m \u001b[0;34m=\u001b[0m \u001b[0m_Root\u001b[0m\u001b[0;34m(\u001b[0m\u001b[0;34m)\u001b[0m\u001b[0;34m\u001b[0m\u001b[0;34m\u001b[0m\u001b[0m\n\u001b[0m\u001b[1;32m   3679\u001b[0m             \u001b[0mself\u001b[0m\u001b[0;34m.\u001b[0m\u001b[0m_root\u001b[0m\u001b[0;34m.\u001b[0m\u001b[0mtitle\u001b[0m\u001b[0;34m(\u001b[0m\u001b[0m_Screen\u001b[0m\u001b[0;34m.\u001b[0m\u001b[0m_title\u001b[0m\u001b[0;34m)\u001b[0m\u001b[0;34m\u001b[0m\u001b[0;34m\u001b[0m\u001b[0m\n\u001b[1;32m   3680\u001b[0m             \u001b[0mself\u001b[0m\u001b[0;34m.\u001b[0m\u001b[0m_root\u001b[0m\u001b[0;34m.\u001b[0m\u001b[0mondestroy\u001b[0m\u001b[0;34m(\u001b[0m\u001b[0mself\u001b[0m\u001b[0;34m.\u001b[0m\u001b[0m_destroy\u001b[0m\u001b[0;34m)\u001b[0m\u001b[0;34m\u001b[0m\u001b[0;34m\u001b[0m\u001b[0m\n",
            "\u001b[0;32m/usr/lib/python3.7/turtle.py\u001b[0m in \u001b[0;36m__init__\u001b[0;34m(self)\u001b[0m\n\u001b[1;32m    432\u001b[0m     \u001b[0;34m\"\"\"Root class for Screen based on Tkinter.\"\"\"\u001b[0m\u001b[0;34m\u001b[0m\u001b[0;34m\u001b[0m\u001b[0m\n\u001b[1;32m    433\u001b[0m     \u001b[0;32mdef\u001b[0m \u001b[0m__init__\u001b[0m\u001b[0;34m(\u001b[0m\u001b[0mself\u001b[0m\u001b[0;34m)\u001b[0m\u001b[0;34m:\u001b[0m\u001b[0;34m\u001b[0m\u001b[0;34m\u001b[0m\u001b[0m\n\u001b[0;32m--> 434\u001b[0;31m         \u001b[0mTK\u001b[0m\u001b[0;34m.\u001b[0m\u001b[0mTk\u001b[0m\u001b[0;34m.\u001b[0m\u001b[0m__init__\u001b[0m\u001b[0;34m(\u001b[0m\u001b[0mself\u001b[0m\u001b[0;34m)\u001b[0m\u001b[0;34m\u001b[0m\u001b[0;34m\u001b[0m\u001b[0m\n\u001b[0m\u001b[1;32m    435\u001b[0m \u001b[0;34m\u001b[0m\u001b[0m\n\u001b[1;32m    436\u001b[0m     \u001b[0;32mdef\u001b[0m \u001b[0msetupcanvas\u001b[0m\u001b[0;34m(\u001b[0m\u001b[0mself\u001b[0m\u001b[0;34m,\u001b[0m \u001b[0mwidth\u001b[0m\u001b[0;34m,\u001b[0m \u001b[0mheight\u001b[0m\u001b[0;34m,\u001b[0m \u001b[0mcwidth\u001b[0m\u001b[0;34m,\u001b[0m \u001b[0mcheight\u001b[0m\u001b[0;34m)\u001b[0m\u001b[0;34m:\u001b[0m\u001b[0;34m\u001b[0m\u001b[0;34m\u001b[0m\u001b[0m\n",
            "\u001b[0;32m/usr/lib/python3.7/tkinter/__init__.py\u001b[0m in \u001b[0;36m__init__\u001b[0;34m(self, screenName, baseName, className, useTk, sync, use)\u001b[0m\n\u001b[1;32m   2021\u001b[0m                 \u001b[0mbaseName\u001b[0m \u001b[0;34m=\u001b[0m \u001b[0mbaseName\u001b[0m \u001b[0;34m+\u001b[0m \u001b[0mext\u001b[0m\u001b[0;34m\u001b[0m\u001b[0;34m\u001b[0m\u001b[0m\n\u001b[1;32m   2022\u001b[0m         \u001b[0minteractive\u001b[0m \u001b[0;34m=\u001b[0m \u001b[0;36m0\u001b[0m\u001b[0;34m\u001b[0m\u001b[0;34m\u001b[0m\u001b[0m\n\u001b[0;32m-> 2023\u001b[0;31m         \u001b[0mself\u001b[0m\u001b[0;34m.\u001b[0m\u001b[0mtk\u001b[0m \u001b[0;34m=\u001b[0m \u001b[0m_tkinter\u001b[0m\u001b[0;34m.\u001b[0m\u001b[0mcreate\u001b[0m\u001b[0;34m(\u001b[0m\u001b[0mscreenName\u001b[0m\u001b[0;34m,\u001b[0m \u001b[0mbaseName\u001b[0m\u001b[0;34m,\u001b[0m \u001b[0mclassName\u001b[0m\u001b[0;34m,\u001b[0m \u001b[0minteractive\u001b[0m\u001b[0;34m,\u001b[0m \u001b[0mwantobjects\u001b[0m\u001b[0;34m,\u001b[0m \u001b[0museTk\u001b[0m\u001b[0;34m,\u001b[0m \u001b[0msync\u001b[0m\u001b[0;34m,\u001b[0m \u001b[0muse\u001b[0m\u001b[0;34m)\u001b[0m\u001b[0;34m\u001b[0m\u001b[0;34m\u001b[0m\u001b[0m\n\u001b[0m\u001b[1;32m   2024\u001b[0m         \u001b[0;32mif\u001b[0m \u001b[0museTk\u001b[0m\u001b[0;34m:\u001b[0m\u001b[0;34m\u001b[0m\u001b[0;34m\u001b[0m\u001b[0m\n\u001b[1;32m   2025\u001b[0m             \u001b[0mself\u001b[0m\u001b[0;34m.\u001b[0m\u001b[0m_loadtk\u001b[0m\u001b[0;34m(\u001b[0m\u001b[0;34m)\u001b[0m\u001b[0;34m\u001b[0m\u001b[0;34m\u001b[0m\u001b[0m\n",
            "\u001b[0;31mTclError\u001b[0m: no display name and no $DISPLAY environment variable"
          ]
        }
      ]
    },
    {
      "cell_type": "code",
      "source": [
        "#11번 문제\n",
        "import turtle               #turtle문 선언\n",
        "\n",
        "t = turtle.Turtle()         #변수t에 turtle.Turtle()을 선언 \n",
        "t.shape(\"turtle\")           #turtle문의 모양을 거북이로 선언\n",
        "t.color(\"red\", \"yellow\")    #도형의 선 색상:빨강, 채우기 색상:노랑\n",
        "\n",
        "t.begin_fill()              #도형에 색을 채움\n",
        "while True:                 \n",
        "  t.forward(200)            #200픽셀 직진\n",
        "  t.left(170)               #왼쪽으로 170도 회전\n",
        "  if abs(t.pos()) < 1:      #거북이 좌표를 절댓값 처리하고 이 절댓값이 1보다 작을 때까지 진행\n",
        "    break                   #반복문을 끝내는 명령어\n",
        "t.end_fill                 #도형에 색 채움 마침\n",
        "t._screen.exitonclick()    #화면을 마우스로 클릭해야 종료되게 하는 부분"
      ],
      "metadata": {
        "id": "D499rvn3iyGw"
      },
      "execution_count": null,
      "outputs": []
    },
    {
      "cell_type": "code",
      "source": [
        "#12번 문제\n",
        "import turtle                 #turtle문 선언\n",
        "import math                   #math문 선언\n",
        "\n",
        "t = turtle.Turtle()           #변수t에 turtle.Turtle()을 선언 \n",
        "t.shape(\"turtle\")             #turtle문의 모양을 거북이로 선언\n",
        "t.color(\"red\", \"yellow\")      #turtle 색상 빨강과 노랑으로 선언\n",
        "\n",
        "for x in range(0, 360):       #각도 범위:0~360도\n",
        "  t.goto(x, 200*math.sin(x*3.14/180)) #각도를 라디안으로 변환\n",
        "t._screen.exitonclick()       #화면을 마우스로 클릭해야 종료되게 하는 부분"
      ],
      "metadata": {
        "id": "mKrgI2XRpWx6"
      },
      "execution_count": null,
      "outputs": []
    }
  ]
}